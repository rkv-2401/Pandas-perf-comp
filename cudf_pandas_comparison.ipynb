{
 "cells": [
  {
   "cell_type": "markdown",
   "metadata": {},
   "source": [
    "# Testing CuDF's GPU acceleration w/ Pandas dataframes\n",
    "\n",
    "Dataset used: UK property price data from Kaggle:\n",
    "\n",
    "https://www.kaggle.com/datasets/willianoliveiragibin/uk-property-price-data-1995-2023-04/data"
   ]
  },
  {
   "cell_type": "code",
   "execution_count": 3,
   "metadata": {},
   "outputs": [],
   "source": [
    "#import cudf"
   ]
  },
  {
   "cell_type": "code",
   "execution_count": 153,
   "metadata": {},
   "outputs": [
    {
     "name": "stdout",
     "output_type": "stream",
     "text": [
      "Collecting line_profiler\n",
      "  Downloading line_profiler-4.1.2-cp39-cp39-manylinux_2_17_x86_64.manylinux2014_x86_64.whl (715 kB)\n",
      "\u001b[2K     \u001b[90m━━━━━━━━━━━━━━━━━━━━━━━━━━━━━━━━━━━━━━━\u001b[0m \u001b[32m715.2/715.2 kB\u001b[0m \u001b[31m4.2 MB/s\u001b[0m eta \u001b[36m0:00:00\u001b[0ma \u001b[36m0:00:01\u001b[0m\n",
      "\u001b[?25hInstalling collected packages: line_profiler\n",
      "Successfully installed line_profiler-4.1.2\n"
     ]
    }
   ],
   "source": [
    "!pip install line_profiler"
   ]
  },
  {
   "cell_type": "code",
   "execution_count": 4,
   "metadata": {},
   "outputs": [],
   "source": [
    "import pandas as pd\n",
    "import numpy as np\n",
    "import random\n",
    "import itertools"
   ]
  },
  {
   "cell_type": "code",
   "execution_count": 154,
   "metadata": {},
   "outputs": [],
   "source": [
    "%load_ext line_profiler"
   ]
  },
  {
   "cell_type": "code",
   "execution_count": 4,
   "metadata": {},
   "outputs": [],
   "source": [
    "#%load_ext cudf.pandas"
   ]
  },
  {
   "cell_type": "code",
   "execution_count": 189,
   "metadata": {},
   "outputs": [],
   "source": [
    "# Inspired by Rob Mulla - https://www.youtube.com/watch?v=u4_c2LDi4b8&list=PL7RwtdVQXQ8qxBH6ugYn50D0M5u--2Xx4&index=15\n",
    "# Good result - a good result for a team in their category (e.g. points for backmarker, podium for midfield, win for leading)\n",
    "# Assuming 21 races a season.\n",
    "def rand_color(paint, base, base_col):\n",
    "    '''\n",
    "        Returns a string joining randomly picked elements from the three lists passed as args.\n",
    "    '''\n",
    "    # No wonder it's so slow (for loop). Args can be of different size\n",
    "    cols_array = np.empty(size, dtype = object)\n",
    "    for iteration in range(size):\n",
    "        color = ''\n",
    "        color = color + str(random.choice(paint))\n",
    "        color = color + ' ' + str(random.choice(base))\n",
    "        color = color + ' ' + str(random.choice(base_col))\n",
    "        cols_array[iteration] = color\n",
    "    print(cols_array[:10])\n",
    "    return cols_array\n",
    "def make_data(size):\n",
    "    paint_type = ['Gloss', 'Matte', 'Iridescent', 'Semi-gloss', 'Satin', 'Low-gloss']\n",
    "    color_type = ['Light', 'Dark', 'Deep', 'Pale', 'Chromatic', 'Racing', 'Radiant']\n",
    "    base_colors = ['Red', 'Green', 'Blue', 'White', 'Black', 'Yellow']\n",
    "    df = pd.DataFrame()\n",
    "    df['year'] = np.random.randint(1990, 2023, size)\n",
    "    df['team'] = np.random.choice(['leading', 'midfield', 'backmarker'], size)\n",
    "    df['best_finish'] = np.random.randint(1, 20, size)\n",
    "    df['points_avg'] = np.random.randint(1, 26, size)\n",
    "    df['total_points'] = np.multiply(df['points_avg'].to_numpy(), 21)\n",
    "    # This is the slowest, taking 90% of the time\n",
    "    car_colors = rand_color(paint_type, color_type, base_colors)\n",
    "    print(car_colors)\n",
    "    df['color_type'] = np.random.choice(car_colors, size)\n",
    "    df['car_color'] = np.random.choice(paint_type + color_type + base_colors, size)\n",
    "    df['good_res'] = np.random.choice(['yes', 'no'], size)\n",
    "    df['prob_good_res'] = np.random.uniform(0, 1, size)\n",
    "    return df"
   ]
  },
  {
   "cell_type": "code",
   "execution_count": 3,
   "metadata": {},
   "outputs": [],
   "source": [
    "#paint_type = ['Gloss', 'Matte', 'Iridescent', 'Semi-gloss', 'Satin', 'Low-gloss']\n",
    "#color_type = ['Light', 'Dark', 'Deep', 'Pale', 'Chromatic', 'Racing', 'Radiant']\n",
    "#base_colors = ['Red', 'Green', 'Blue', 'White', 'Black', 'Yellow']\n",
    "#car_colors = rand_color(paint_type, color_type, base_colors)"
   ]
  },
  {
   "cell_type": "code",
   "execution_count": 181,
   "metadata": {},
   "outputs": [
    {
     "name": "stdout",
     "output_type": "stream",
     "text": [
      "['Gloss Deep White', 'Satin Deep Red', 'Iridescent Racing White', 'Iridescent Dark Black', 'Iridescent Dark Yellow', 'Semi-gloss Dark Blue', 'Gloss Dark Green', 'Semi-gloss Radiant White', 'Low-sheen Chromatic Black', 'Low-sheen Dark Green']\n"
     ]
    }
   ],
   "source": [
    "#%lprun -f make_data make_data(10 ** 5)"
   ]
  },
  {
   "cell_type": "code",
   "execution_count": 2,
   "metadata": {},
   "outputs": [],
   "source": [
    "#df2 = make_data(10 ** 4)\n",
    "#df2.to_csv('data.csv')"
   ]
  },
  {
   "cell_type": "code",
   "execution_count": 6,
   "metadata": {},
   "outputs": [
    {
     "name": "stdout",
     "output_type": "stream",
     "text": [
      "CPU times: user 17.7 s, sys: 4.04 s, total: 21.7 s\n",
      "Wall time: 27.3 s\n"
     ]
    }
   ],
   "source": [
    "%%time\n",
    "df = pd.read_csv('data.csv')"
   ]
  },
  {
   "cell_type": "markdown",
   "metadata": {},
   "source": [
    "#### Wall time 27 seconds. Eek."
   ]
  },
  {
   "cell_type": "code",
   "execution_count": 7,
   "metadata": {},
   "outputs": [
    {
     "name": "stdout",
     "output_type": "stream",
     "text": [
      "<class 'pandas.core.frame.DataFrame'>\n",
      "RangeIndex: 20000000 entries, 0 to 19999999\n",
      "Data columns (total 10 columns):\n",
      " #   Column         Dtype  \n",
      "---  ------         -----  \n",
      " 0   Unnamed: 0     int64  \n",
      " 1   year           int64  \n",
      " 2   team           object \n",
      " 3   best_finish    int64  \n",
      " 4   points_avg     int64  \n",
      " 5   total_points   int64  \n",
      " 6   color_type     object \n",
      " 7   car_color      object \n",
      " 8   good_res       object \n",
      " 9   prob_good_res  float64\n",
      "dtypes: float64(1), int64(5), object(4)\n",
      "memory usage: 1.5+ GB\n"
     ]
    }
   ],
   "source": [
    "#df = pd.read_csv('data.csv')\n",
    "df.info()"
   ]
  },
  {
   "cell_type": "markdown",
   "metadata": {},
   "source": [
    "First, we'll import the data and look at it. \n",
    "\n",
    "Note the datatype for price. We're explicitly setting this, due to the original dataset being parsed as a string. "
   ]
  },
  {
   "cell_type": "code",
   "execution_count": 17,
   "metadata": {},
   "outputs": [
    {
     "data": {
      "text/plain": [
       "10000000"
      ]
     },
     "execution_count": 17,
     "metadata": {},
     "output_type": "execute_result"
    }
   ],
   "source": [
    "len(df)"
   ]
  },
  {
   "cell_type": "markdown",
   "metadata": {},
   "source": [
    "A simple operation to find unique values. In this case, we're going to grab for unique Towns/Cities."
   ]
  },
  {
   "cell_type": "code",
   "execution_count": 8,
   "metadata": {},
   "outputs": [
    {
     "name": "stdout",
     "output_type": "stream",
     "text": [
      "210\n"
     ]
    }
   ],
   "source": [
    "# get unique values for a given column:\n",
    "which_unique_col = 'color_type'\n",
    "uniques = df[which_unique_col].unique()\n",
    "print(len(uniques))"
   ]
  },
  {
   "cell_type": "code",
   "execution_count": 11,
   "metadata": {},
   "outputs": [
    {
     "data": {
      "text/plain": [
       "0      Semi-gloss Chromatic Green\n",
       "1              Matte Racing White\n",
       "2                 Gloss Light Red\n",
       "3           Iridescent Dark White\n",
       "4               Gloss Pale Yellow\n",
       "                  ...            \n",
       "495       Iridescent Radiant Blue\n",
       "496       Iridescent Radiant Blue\n",
       "497            Gloss Racing Green\n",
       "498              Matte Deep Black\n",
       "499              Matte Dark White\n",
       "Name: color_type, Length: 500, dtype: object"
      ]
     },
     "execution_count": 11,
     "metadata": {},
     "output_type": "execute_result"
    }
   ],
   "source": [
    "df['color_type'][:500]"
   ]
  },
  {
   "cell_type": "code",
   "execution_count": 12,
   "metadata": {},
   "outputs": [
    {
     "data": {
      "text/plain": [
       "array(['Semi-gloss Chromatic Green', 'Matte Racing White',\n",
       "       'Gloss Light Red', 'Iridescent Dark White', 'Gloss Pale Yellow',\n",
       "       'Semi-gloss Chromatic Red', 'Iridescent Chromatic Blue',\n",
       "       'Satin Deep Black', 'Gloss Radiant Red', 'Satin Deep Yellow'],\n",
       "      dtype=object)"
      ]
     },
     "execution_count": 12,
     "metadata": {},
     "output_type": "execute_result"
    }
   ],
   "source": [
    "uniques[:10]"
   ]
  },
  {
   "cell_type": "markdown",
   "metadata": {},
   "source": [
    "Now let's do a slightly more complicated operation. We're going to find the average price for each town/city."
   ]
  },
  {
   "cell_type": "code",
   "execution_count": 13,
   "metadata": {},
   "outputs": [
    {
     "data": {
      "text/plain": [
       "array([12, 15,  7, 13, 17, 19,  9, 18, 10,  6,  4,  3,  1, 16,  8, 14,  5,\n",
       "       11,  2])"
      ]
     },
     "execution_count": 13,
     "metadata": {},
     "output_type": "execute_result"
    }
   ],
   "source": [
    "df['best_finish'].unique()"
   ]
  },
  {
   "cell_type": "code",
   "execution_count": 14,
   "metadata": {},
   "outputs": [
    {
     "name": "stdout",
     "output_type": "stream",
     "text": [
      "115 ms ± 1.96 ms per loop (mean ± std. dev. of 7 runs, 10 loops each)\n"
     ]
    }
   ],
   "source": [
    "%%timeit\n",
    "years = sorted(df['year'].unique())"
   ]
  },
  {
   "cell_type": "code",
   "execution_count": 15,
   "metadata": {},
   "outputs": [
    {
     "name": "stdout",
     "output_type": "stream",
     "text": [
      "[1990, 1991, 1992, 1993, 1994, 1995, 1996, 1997, 1998, 1999, 2000, 2001, 2002, 2003, 2004, 2005, 2006, 2007, 2008, 2009, 2010, 2011, 2012, 2013, 2014, 2015, 2016, 2017, 2018, 2019, 2020, 2021, 2022]\n"
     ]
    }
   ],
   "source": [
    "years = sorted(df['year'].unique())\n",
    "print(years)\n",
    "uniques_points = {}"
   ]
  },
  {
   "cell_type": "code",
   "execution_count": 16,
   "metadata": {},
   "outputs": [
    {
     "name": "stdout",
     "output_type": "stream",
     "text": [
      "2.24 s ± 18.6 ms per loop (mean ± std. dev. of 7 runs, 1 loop each)\n"
     ]
    }
   ],
   "source": [
    "%%timeit\n",
    "grouped_df = df.groupby([which_unique_col], as_index = False)[['color_type', 'total_points']]\n",
    "uniques_points = grouped_df.mean().values.tolist()"
   ]
  },
  {
   "cell_type": "code",
   "execution_count": 10,
   "metadata": {},
   "outputs": [],
   "source": [
    "uniques_points = {}"
   ]
  },
  {
   "cell_type": "code",
   "execution_count": 11,
   "metadata": {},
   "outputs": [
    {
     "name": "stdout",
     "output_type": "stream",
     "text": [
      "CPU times: user 4min 2s, sys: 59.4 ms, total: 4min 2s\n",
      "Wall time: 4min 2s\n"
     ]
    },
    {
     "data": {
      "text/plain": [
       "210"
      ]
     },
     "execution_count": 11,
     "metadata": {},
     "output_type": "execute_result"
    }
   ],
   "source": [
    "%%time\n",
    "for unique in uniques:\n",
    "    uniques_points[unique] = df[df[which_unique_col] == unique]['total_points'].mean()\n",
    "len(uniques_points.items())"
   ]
  },
  {
   "cell_type": "markdown",
   "metadata": {},
   "source": [
    "#### With 1.5GB of data, GroupBy way - 2.24 seconds\n",
    "#### Old way - 4 min 2 seconds ( ~240 secs) \n",
    "#### GroupBy was 119x faster!"
   ]
  },
  {
   "cell_type": "markdown",
   "metadata": {},
   "source": [
    "### 10^4 dataset:\n",
    "#### Using GroupBy was 72 times faster!!\n",
    "#### Old way - 228ms +- 4.32ms\n",
    "#### This way - 3.17ms"
   ]
  },
  {
   "cell_type": "code",
   "execution_count": 17,
   "metadata": {},
   "outputs": [
    {
     "name": "stdout",
     "output_type": "stream",
     "text": [
      "                    color_type  total_points\n",
      "0        Gloss Chromatic Black    272.878697\n",
      "1         Gloss Chromatic Blue    273.177468\n",
      "2        Gloss Chromatic Green    272.432141\n",
      "3          Gloss Chromatic Red    273.302508\n",
      "4        Gloss Chromatic White    272.762697\n",
      "..                         ...           ...\n",
      "205    Semi-gloss Radiant Blue    272.921620\n",
      "206   Semi-gloss Radiant Green    273.080040\n",
      "207     Semi-gloss Radiant Red    273.083033\n",
      "208   Semi-gloss Radiant White    273.395964\n",
      "209  Semi-gloss Radiant Yellow    273.056376\n",
      "\n",
      "[210 rows x 2 columns]\n"
     ]
    }
   ],
   "source": [
    "# Also try - groupby.transform('mean')\n",
    "grouped_df = df.groupby([which_unique_col], as_index = False)[['color_type', 'total_points']]\n",
    "mean_points = grouped_df.mean()\n",
    "print(mean_points)"
   ]
  },
  {
   "cell_type": "code",
   "execution_count": 18,
   "metadata": {},
   "outputs": [
    {
     "name": "stdout",
     "output_type": "stream",
     "text": [
      "210\n"
     ]
    },
    {
     "data": {
      "text/plain": [
       "[['Gloss Chromatic Black', 272.87869701082667],\n",
       " ['Gloss Chromatic Blue', 273.17746788990826],\n",
       " ['Gloss Chromatic Green', 272.4321411740064],\n",
       " ['Gloss Chromatic Red', 273.30250795294813],\n",
       " ['Gloss Chromatic White', 272.76269691241333],\n",
       " ['Gloss Chromatic Yellow', 272.2264190558174],\n",
       " ['Gloss Dark Black', 272.9953761952693],\n",
       " ['Gloss Dark Blue', 272.9275161005177],\n",
       " ['Gloss Dark Green', 272.962793052172],\n",
       " ['Gloss Dark Red', 272.21319086219603]]"
      ]
     },
     "execution_count": 18,
     "metadata": {},
     "output_type": "execute_result"
    }
   ],
   "source": [
    "uniques_points = mean_points.values.tolist()\n",
    "print(len(uniques_points))\n",
    "uniques_points[:10]"
   ]
  },
  {
   "cell_type": "code",
   "execution_count": 15,
   "metadata": {},
   "outputs": [],
   "source": [
    "#%%timeit\n",
    "## Debugging code - ignore\n",
    "#uniques_points[unique] = [grouped_df.mean() for unique in uniques]\n",
    "uniques_points = {}"
   ]
  },
  {
   "cell_type": "code",
   "execution_count": 16,
   "metadata": {},
   "outputs": [
    {
     "name": "stdout",
     "output_type": "stream",
     "text": [
      "CPU times: user 4min 2s, sys: 30.1 ms, total: 4min 2s\n",
      "Wall time: 4min 2s\n"
     ]
    }
   ],
   "source": [
    "%%time\n",
    "for unique in uniques:\n",
    "    uniques_points[unique] = df[df[which_unique_col] == unique]['total_points'].mean()"
   ]
  },
  {
   "cell_type": "code",
   "execution_count": 17,
   "metadata": {},
   "outputs": [],
   "source": [
    "#for unique in uniques:\n",
    "#    uniques_points[unique] = df[df[which_unique_col] == unique]['total_points'].mean()\n",
    "#len(uniques_points.items())"
   ]
  },
  {
   "cell_type": "code",
   "execution_count": 24,
   "metadata": {},
   "outputs": [
    {
     "name": "stdout",
     "output_type": "stream",
     "text": [
      "[('Semi-gloss Chromatic Green', 273.06433742524393), ('Matte Racing White', 272.3175567234163), ('Gloss Light Red', 272.7523714690006), ('Iridescent Dark White', 273.5581453660269), ('Gloss Pale Yellow', 271.95177028451)]\n"
     ]
    }
   ],
   "source": [
    "print(list(uniques_points.items())[:5])"
   ]
  },
  {
   "cell_type": "markdown",
   "metadata": {},
   "source": [
    "Next, we'll grab data just for 2022:"
   ]
  },
  {
   "cell_type": "code",
   "execution_count": 27,
   "metadata": {},
   "outputs": [],
   "source": [
    "# Use string or number in vectorized version\n",
    "# df_2022 = df[df['year'].str.startswith('2022')]\n",
    "df_green = df[df[which_unique_col] == 'Matte Racing Green']"
   ]
  },
  {
   "cell_type": "code",
   "execution_count": 28,
   "metadata": {},
   "outputs": [
    {
     "name": "stdout",
     "output_type": "stream",
     "text": [
      "95039\n"
     ]
    },
    {
     "data": {
      "text/html": [
       "<div>\n",
       "<style scoped>\n",
       "    .dataframe tbody tr th:only-of-type {\n",
       "        vertical-align: middle;\n",
       "    }\n",
       "\n",
       "    .dataframe tbody tr th {\n",
       "        vertical-align: top;\n",
       "    }\n",
       "\n",
       "    .dataframe thead th {\n",
       "        text-align: right;\n",
       "    }\n",
       "</style>\n",
       "<table border=\"1\" class=\"dataframe\">\n",
       "  <thead>\n",
       "    <tr style=\"text-align: right;\">\n",
       "      <th></th>\n",
       "      <th>Unnamed: 0</th>\n",
       "      <th>year</th>\n",
       "      <th>team</th>\n",
       "      <th>best_finish</th>\n",
       "      <th>points_avg</th>\n",
       "      <th>total_points</th>\n",
       "      <th>color_type</th>\n",
       "      <th>car_color</th>\n",
       "      <th>good_res</th>\n",
       "      <th>prob_good_res</th>\n",
       "    </tr>\n",
       "  </thead>\n",
       "  <tbody>\n",
       "    <tr>\n",
       "      <th>19997389</th>\n",
       "      <td>19997389</td>\n",
       "      <td>2011</td>\n",
       "      <td>backmarker</td>\n",
       "      <td>2</td>\n",
       "      <td>19</td>\n",
       "      <td>399</td>\n",
       "      <td>Matte Racing Green</td>\n",
       "      <td>Red</td>\n",
       "      <td>yes</td>\n",
       "      <td>0.227745</td>\n",
       "    </tr>\n",
       "    <tr>\n",
       "      <th>19997795</th>\n",
       "      <td>19997795</td>\n",
       "      <td>2019</td>\n",
       "      <td>midfield</td>\n",
       "      <td>3</td>\n",
       "      <td>5</td>\n",
       "      <td>105</td>\n",
       "      <td>Matte Racing Green</td>\n",
       "      <td>Matte</td>\n",
       "      <td>yes</td>\n",
       "      <td>0.044618</td>\n",
       "    </tr>\n",
       "    <tr>\n",
       "      <th>19998788</th>\n",
       "      <td>19998788</td>\n",
       "      <td>2016</td>\n",
       "      <td>backmarker</td>\n",
       "      <td>8</td>\n",
       "      <td>20</td>\n",
       "      <td>420</td>\n",
       "      <td>Matte Racing Green</td>\n",
       "      <td>Yellow</td>\n",
       "      <td>no</td>\n",
       "      <td>0.902482</td>\n",
       "    </tr>\n",
       "    <tr>\n",
       "      <th>19999151</th>\n",
       "      <td>19999151</td>\n",
       "      <td>1995</td>\n",
       "      <td>leading</td>\n",
       "      <td>7</td>\n",
       "      <td>23</td>\n",
       "      <td>483</td>\n",
       "      <td>Matte Racing Green</td>\n",
       "      <td>Gloss</td>\n",
       "      <td>no</td>\n",
       "      <td>0.708475</td>\n",
       "    </tr>\n",
       "    <tr>\n",
       "      <th>19999888</th>\n",
       "      <td>19999888</td>\n",
       "      <td>2008</td>\n",
       "      <td>leading</td>\n",
       "      <td>7</td>\n",
       "      <td>20</td>\n",
       "      <td>420</td>\n",
       "      <td>Matte Racing Green</td>\n",
       "      <td>Chromatic</td>\n",
       "      <td>yes</td>\n",
       "      <td>0.163311</td>\n",
       "    </tr>\n",
       "  </tbody>\n",
       "</table>\n",
       "</div>"
      ],
      "text/plain": [
       "          Unnamed: 0  year        team  best_finish  points_avg  total_points  \\\n",
       "19997389    19997389  2011  backmarker            2          19           399   \n",
       "19997795    19997795  2019    midfield            3           5           105   \n",
       "19998788    19998788  2016  backmarker            8          20           420   \n",
       "19999151    19999151  1995     leading            7          23           483   \n",
       "19999888    19999888  2008     leading            7          20           420   \n",
       "\n",
       "                  color_type  car_color good_res  prob_good_res  \n",
       "19997389  Matte Racing Green        Red      yes       0.227745  \n",
       "19997795  Matte Racing Green      Matte      yes       0.044618  \n",
       "19998788  Matte Racing Green     Yellow       no       0.902482  \n",
       "19999151  Matte Racing Green      Gloss       no       0.708475  \n",
       "19999888  Matte Racing Green  Chromatic      yes       0.163311  "
      ]
     },
     "execution_count": 28,
     "metadata": {},
     "output_type": "execute_result"
    }
   ],
   "source": [
    "print(len(df_green))\n",
    "df_green.tail()"
   ]
  },
  {
   "cell_type": "markdown",
   "metadata": {},
   "source": [
    "Grab the lower 20% and upper 20% averages for properties in 2022."
   ]
  },
  {
   "cell_type": "code",
   "execution_count": 29,
   "metadata": {},
   "outputs": [],
   "source": [
    "recent_lower_upper = {}"
   ]
  },
  {
   "cell_type": "code",
   "execution_count": 81,
   "metadata": {},
   "outputs": [
    {
     "name": "stdout",
     "output_type": "stream",
     "text": [
      "133 ms ± 1.76 ms per loop (mean ± std. dev. of 7 runs, 10 loops each)\n"
     ]
    }
   ],
   "source": [
    "%%timeit\n",
    "grouped_df = df.groupby([which_unique_col], as_index = False)\n",
    "for unique in uniques:\n",
    "    points = grouped_df.get_group(unique)['total_points']\n",
    "    #print(points)\n",
    "    sorted_points = points.sort_values()\n",
    "\n",
    "    # bottom 20% of the prices\n",
    "    bottom_20_percent_points = sorted_points[:int(0.2 * len(sorted_points))]\n",
    "\n",
    "    # average of the bottom 20%\n",
    "    average_of_bottom_20_percent = bottom_20_percent_points.mean()\n",
    "\n",
    "    # top 20% of the prices\n",
    "    top_20_percent_points = sorted_points[int(0.8 * len(sorted_points)):]\n",
    "    # average of the top 20%\n",
    "    average_of_top_20_percent = top_20_percent_points.mean()\n",
    "\n",
    "    recent_lower_upper[unique] = (average_of_bottom_20_percent, average_of_top_20_percent)"
   ]
  },
  {
   "cell_type": "code",
   "execution_count": 93,
   "metadata": {},
   "outputs": [
    {
     "name": "stdout",
     "output_type": "stream",
     "text": [
      "134 ms ± 2.34 ms per loop (mean ± std. dev. of 7 runs, 10 loops each)\n"
     ]
    }
   ],
   "source": [
    "%%timeit\n",
    "grouped_df = df.groupby([which_unique_col], as_index = False)\n",
    "for unique in uniques:\n",
    "    points = df.iloc[grouped_df.indices.get(unique)]['total_points']\n",
    "    #print(points)\n",
    "    sorted_points = points.sort_values()\n",
    "\n",
    "    # bottom 20% of the prices\n",
    "    bottom_20_percent_points = sorted_points[:int(0.2 * len(sorted_points))]\n",
    "\n",
    "    # average of the bottom 20%\n",
    "    average_of_bottom_20_percent = bottom_20_percent_points.mean()\n",
    "\n",
    "    # top 20% of the prices\n",
    "    top_20_percent_points = sorted_points[int(0.8 * len(sorted_points)):]\n",
    "    # average of the top 20%\n",
    "    average_of_top_20_percent = top_20_percent_points.mean()\n",
    "\n",
    "    recent_lower_upper[unique] = (average_of_bottom_20_percent, average_of_top_20_percent)\n",
    "    \n",
    "    ## Doesn't use deprecated method"
   ]
  },
  {
   "cell_type": "code",
   "execution_count": null,
   "metadata": {},
   "outputs": [],
   "source": [
    "### Groupby inside is slower here.\n",
    "### Grouping outside halves the time"
   ]
  },
  {
   "cell_type": "markdown",
   "metadata": {},
   "source": [
    "Then from here, you might calculate range or a ratio to determine variance for a given area and then find standouts:"
   ]
  },
  {
   "cell_type": "code",
   "execution_count": 26,
   "metadata": {},
   "outputs": [
    {
     "name": "stdout",
     "output_type": "stream",
     "text": [
      "['Semi-gloss Chromatic Green', 'Matte Racing White', 'Gloss Light Red', 'Iridescent Dark White', 'Gloss Pale Yellow']\n"
     ]
    }
   ],
   "source": [
    "# Use np.where and this function\n",
    "# NumPy array slicing returns a view - check GC effects\n",
    "def point_ratios(pandas_df):\n",
    "    # Same team identifier for every element in group\n",
    "    # To Numpy here - changed time hit from 32% to 18%\n",
    "    team_name = pandas_df['color_type'].to_numpy()[0]\n",
    "    # Changing this to NumPy array doesn't make a big difference, because...\n",
    "    points = pandas_df['total_points']\n",
    "    sorted_points = np.sort(points)\n",
    "    # This is a NumPy array\n",
    "    # sorted_points.shape[0] - gets the length of the array\n",
    "    # bottom 20% of the prices\n",
    "    bottom_20_percent_points = sorted_points[:int(0.2 * sorted_points.shape[0])]\n",
    "\n",
    "    # average of the bottom 20%\n",
    "    average_of_bottom_20_pct = np.mean(bottom_20_percent_points)\n",
    "\n",
    "    # top 20% of the prices\n",
    "    top_20_percent_points = sorted_points[int(0.8 * sorted_points.shape[0]):]\n",
    "    # average of the top 20%\n",
    "    average_of_top_20_pct = np.mean(top_20_percent_points)\n",
    "    \n",
    "    return team_name, (average_of_bottom_20_pct, average_of_top_20_pct)\n",
    "    \n",
    "grouped_df = df.groupby([which_unique_col], as_index = False)\n",
    "unique_pts_df = [df.iloc[grouped_df.indices.get(unique)] for unique in uniques]\n",
    "recent_lower_upper = dict(map(point_ratios, unique_pts_df))\n",
    "print(list(recent_lower_upper)[:5])"
   ]
  },
  {
   "cell_type": "code",
   "execution_count": 21,
   "metadata": {},
   "outputs": [
    {
     "name": "stdout",
     "output_type": "stream",
     "text": [
      "CPU times: user 13.4 s, sys: 39.8 ms, total: 13.5 s\n",
      "Wall time: 13.5 s\n"
     ]
    }
   ],
   "source": [
    "%%time\n",
    "grouped_df = df.groupby([which_unique_col], as_index = False)\n",
    "unique_pts_df = [df.iloc[grouped_df.indices.get(unique)] for unique in uniques]\n",
    "recent_lower_upper = dict(map(point_ratios, unique_pts_df))"
   ]
  },
  {
   "cell_type": "code",
   "execution_count": 175,
   "metadata": {},
   "outputs": [],
   "source": [
    "%lprun -f point_ratios dict(map(point_ratios, unique_pts_df))"
   ]
  },
  {
   "cell_type": "code",
   "execution_count": 27,
   "metadata": {},
   "outputs": [
    {
     "name": "stdout",
     "output_type": "stream",
     "text": [
      "CPU times: user 17min 6s, sys: 5min 35s, total: 22min 42s\n",
      "Wall time: 19min 43s\n"
     ]
    }
   ],
   "source": [
    "%%time\n",
    "for unique in uniques:\n",
    "    points = df.where(df[which_unique_col] == unique)['total_points']\n",
    "    sorted_points = points.sort_values()\n",
    "\n",
    "    # bottom 20% of the prices\n",
    "    bottom_20_percent_points = sorted_points[:int(0.2 * len(sorted_points))]\n",
    "\n",
    "    # average of the bottom 20%\n",
    "    average_of_bottom_20_percent = bottom_20_percent_points.mean()\n",
    "\n",
    "    # top 20% of the prices\n",
    "    top_20_percent_points = sorted_points[int(0.8 * len(sorted_points)):]\n",
    "    # average of the top 20%\n",
    "    average_of_top_20_percent = top_20_percent_points.mean()\n",
    "\n",
    "    recent_lower_upper[unique] = (average_of_bottom_20_percent, average_of_top_20_percent)"
   ]
  },
  {
   "cell_type": "markdown",
   "metadata": {},
   "source": [
    "### 1.5GB dataset\n",
    "#### Old way - 19 min amd 43 seconds - 1183 secs\n",
    "#### New way (GroupBy and vectorized) - 13.5 secs!!\n",
    "#### 87x faster!"
   ]
  },
  {
   "cell_type": "markdown",
   "metadata": {},
   "source": [
    "### 10^4 dataset (686kB)\n",
    "#### Using PD mask without groupby - 1.19 seconds\n",
    "#### Using PD where - 1.08 seconds\n",
    "#### df[df[unique_col] == unique] - 294ms (SentDex way)\n",
    "#### Groupby outside - 133ms\n",
    "#### List comprehension and map w/ NumPy vector - 60.6ms\n",
    "#### Above w/ NumPy operations instead of Pd - still 60-61ms, not big difference\n",
    "#### With profiler optimizations - 59ms"
   ]
  },
  {
   "cell_type": "code",
   "execution_count": 135,
   "metadata": {},
   "outputs": [],
   "source": [
    "recent_lower_upper = {}\n",
    "for unique in uniques:\n",
    "    points = df.where(df[which_unique_col] == unique)['total_points']\n",
    "    sorted_points = points.sort_values()\n",
    "\n",
    "    # bottom 20% of the prices\n",
    "    bottom_20_percent_points = sorted_points[:int(0.2 * len(sorted_points))]\n",
    "\n",
    "    # average of the bottom 20%\n",
    "    average_of_bottom_20_percent = bottom_20_percent_points.mean()\n",
    "\n",
    "    # top 20% of the prices\n",
    "    top_20_percent_points = sorted_points[int(0.8 * len(sorted_points)):]\n",
    "    # average of the top 20%\n",
    "    average_of_top_20_percent = top_20_percent_points.mean()\n",
    "\n",
    "    recent_lower_upper[unique] = (average_of_bottom_20_percent, average_of_top_20_percent)\n",
    "    \n",
    "#recent_lower_upper"
   ]
  },
  {
   "cell_type": "code",
   "execution_count": 31,
   "metadata": {},
   "outputs": [
    {
     "ename": "TypeError",
     "evalue": "'dict_items' object is not subscriptable",
     "output_type": "error",
     "traceback": [
      "\u001b[0;31m---------------------------------------------------------------------------\u001b[0m",
      "\u001b[0;31mTypeError\u001b[0m                                 Traceback (most recent call last)",
      "Input \u001b[0;32mIn [31]\u001b[0m, in \u001b[0;36m<cell line: 21>\u001b[0;34m()\u001b[0m\n\u001b[1;32m     17\u001b[0m     average_of_top_20_percent \u001b[38;5;241m=\u001b[39m top_20_percent_points\u001b[38;5;241m.\u001b[39mmean()\n\u001b[1;32m     19\u001b[0m     recent_lower_upper[unique] \u001b[38;5;241m=\u001b[39m (average_of_bottom_20_percent, average_of_top_20_percent)\n\u001b[0;32m---> 21\u001b[0m \u001b[43mrecent_lower_upper\u001b[49m\u001b[38;5;241;43m.\u001b[39;49m\u001b[43mitems\u001b[49m\u001b[43m(\u001b[49m\u001b[43m)\u001b[49m\u001b[43m[\u001b[49m\u001b[43m:\u001b[49m\u001b[38;5;241;43m50\u001b[39;49m\u001b[43m]\u001b[49m\n",
      "\u001b[0;31mTypeError\u001b[0m: 'dict_items' object is not subscriptable"
     ]
    }
   ],
   "source": [
    "recent_lower_upper = {}\n",
    "grouped_df = df.groupby([which_unique_col], as_index = False)\n",
    "for unique in uniques:\n",
    "    points = df.iloc[grouped_df.indices.get(unique)]['total_points']\n",
    "    #print(points)\n",
    "    sorted_points = points.sort_values()\n",
    "\n",
    "    # bottom 20% of the prices\n",
    "    bottom_20_percent_points = sorted_points[:int(0.2 * len(sorted_points))]\n",
    "\n",
    "    # average of the bottom 20%\n",
    "    average_of_bottom_20_percent = bottom_20_percent_points.mean()\n",
    "\n",
    "    # top 20% of the prices\n",
    "    top_20_percent_points = sorted_points[int(0.8 * len(sorted_points)):]\n",
    "    # average of the top 20%\n",
    "    average_of_top_20_percent = top_20_percent_points.mean()\n",
    "\n",
    "    recent_lower_upper[unique] = (average_of_bottom_20_percent, average_of_top_20_percent)"
   ]
  },
  {
   "cell_type": "code",
   "execution_count": 33,
   "metadata": {},
   "outputs": [
    {
     "data": {
      "text/plain": [
       "[('Semi-gloss Chromatic Green', (63.12118350645263, 482.89974819011644)),\n",
       " ('Matte Racing White', (62.883247666002305, 482.3204489432003)),\n",
       " ('Gloss Light Red', (62.90425030134689, 483.2993553796971)),\n",
       " ('Iridescent Dark White', (63.13273781538944, 483.65049101546174)),\n",
       " ('Gloss Pale Yellow', (62.57513171759747, 482.72118018967336)),\n",
       " ('Semi-gloss Chromatic Red', (63.13744894753377, 482.0763914341065)),\n",
       " ('Iridescent Chromatic Blue', (62.77917865550614, 482.5012554927809)),\n",
       " ('Satin Deep Black', (63.55085948588551, 483.42609335576117)),\n",
       " ('Gloss Radiant Red', (63.246707407017176, 483.1792129800348)),\n",
       " ('Satin Deep Yellow', (62.894300844125205, 483.1882667505505)),\n",
       " ('Satin Dark Black', (63.38711202142745, 482.3493330532507)),\n",
       " ('Iridescent Racing White', (63.338584751567524, 482.4036354056902)),\n",
       " ('Iridescent Deep Blue', (63.417065097462306, 483.5428181149522)),\n",
       " ('Satin Deep Green', (62.80136914715719, 482.58739614359615)),\n",
       " ('Iridescent Deep White', (63.48950276243094, 482.88729874776385)),\n",
       " ('Semi-gloss Deep Green', (62.81297150041911, 483.6589658965897)),\n",
       " ('Satin Radiant Red', (62.968013025894216, 482.68125)),\n",
       " ('Semi-gloss Pale Green', (62.932614413466595, 483.0718005365315)),\n",
       " ('Matte Deep Green', (62.871796221251515, 483.27407641300914)),\n",
       " ('Matte Chromatic Black', (63.386293162348245, 482.89404530404164))]"
      ]
     },
     "execution_count": 33,
     "metadata": {},
     "output_type": "execute_result"
    }
   ],
   "source": [
    "list(recent_lower_upper.items())[:20]"
   ]
  },
  {
   "cell_type": "code",
   "execution_count": 46,
   "metadata": {},
   "outputs": [],
   "source": [
    "ratios = {}\n",
    "ranges = {}"
   ]
  },
  {
   "cell_type": "code",
   "execution_count": 45,
   "metadata": {},
   "outputs": [
    {
     "name": "stdout",
     "output_type": "stream",
     "text": [
      "770 µs ± 12.3 µs per loop (mean ± std. dev. of 7 runs, 1,000 loops each)\n"
     ]
    }
   ],
   "source": [
    "%%timeit\n",
    "for color in recent_lower_upper:\n",
    "    total_range = recent_lower_upper[color][1] - recent_lower_upper[color][0]\n",
    "    ratio = recent_lower_upper[color][1] / recent_lower_upper[color][0]\n",
    "    #confirm ratio is a number:\n",
    "    if not np.isnan(ratio) and not np.isnan(total_range):\n",
    "        #print(f\"City: {city}, ratio: {ratio}, total_range: {total_range}\")\n",
    "\n",
    "        ratios[color] = ratio\n",
    "        ranges[color] = total_range\n",
    "    \n",
    "sorted_ratios = sorted(ratios.items(), key=lambda x: x[1], reverse=True)\n",
    "sorted_ranges = sorted(ranges.items(), key=lambda x: x[1], reverse=True)"
   ]
  },
  {
   "cell_type": "markdown",
   "metadata": {},
   "source": [
    "### Above operation timeit \n",
    "\n",
    "#### 10^4 dataset - 1.25ms\n",
    "#### 1.5GB dataset - 770us"
   ]
  },
  {
   "cell_type": "code",
   "execution_count": 51,
   "metadata": {},
   "outputs": [
    {
     "name": "stdout",
     "output_type": "stream",
     "text": [
      "Top 5 ratios: []\n",
      "Top 5 ranges: []\n"
     ]
    }
   ],
   "source": [
    "def color_ratios(lower_upper):\n",
    "    '''\n",
    "        Input: Dict\n",
    "        Output: Dict, Dict\n",
    "        Takes in a dictionary with the team's color as the key and a tuple of their lower and upper points\n",
    "        bands as the value.\n",
    "        \n",
    "        Returns 2 dictionaries - the sorted ratios and ranges.\n",
    "    '''\n",
    "    ratios_fn = {}\n",
    "    ranges_fn = {}\n",
    "    for key, value_tuple in lower_upper.items():\n",
    "        # Upper range - lower range\n",
    "        total_range = value_tuple[1] - value_tuple[0]\n",
    "        ratio = value_tuple[1] / value_tuple[0]\n",
    "        # confirming these two are numbers:\n",
    "        if not np.isnan(ratio) and not np.isnan(total_range):\n",
    "            ratios[key] = ratio\n",
    "            ranges[key] = total_range\n",
    "    return ratios_fn, ranges_fn\n",
    "\n",
    "ratios, ranges = color_ratios(recent_lower_upper)\n",
    "# Sort by highest/upper values\n",
    "sorted_ratios = sorted(ratios.items(), key=lambda x: x[1], reverse=True)\n",
    "sorted_ranges = sorted(ranges.items(), key=lambda x: x[1], reverse=True)\n",
    "print(f\"Top 5 ratios: {sorted_ratios[:5]}\")\n",
    "print(f\"Top 5 ranges: {sorted_ranges[:5]}\")"
   ]
  },
  {
   "cell_type": "code",
   "execution_count": 41,
   "metadata": {},
   "outputs": [
    {
     "name": "stdout",
     "output_type": "stream",
     "text": [
      "730 µs ± 10.5 µs per loop (mean ± std. dev. of 7 runs, 1,000 loops each)\n"
     ]
    }
   ],
   "source": [
    "%%timeit \n",
    "ratios, ranges = color_ratios(recent_lower_upper)\n",
    "sorted_ratios = sorted(ratios.items(), key=lambda x: x[1], reverse=True)\n",
    "sorted_ranges = sorted(ranges.items(), key=lambda x: x[1], reverse=True)"
   ]
  },
  {
   "cell_type": "markdown",
   "metadata": {},
   "source": [
    "### Above operation timeit \n",
    "\n",
    "#### 10^4 dataset - 1.1ms\n",
    "#### 1.5GB dataset - 730us"
   ]
  },
  {
   "cell_type": "code",
   "execution_count": 35,
   "metadata": {},
   "outputs": [
    {
     "name": "stdout",
     "output_type": "stream",
     "text": [
      "Top 5 ratios: [('Gloss Light Yellow', 7.786666689154867), ('Satin Racing Yellow', 7.777448874528821), ('Iridescent Dark Yellow', 7.766192321479855), ('Matte Pale White', 7.758228689253698), ('Gloss Pale Blue', 7.757793073707121)]\n",
      "Top 5 ranges: [('Iridescent Dark Yellow', 421.49190686674854), ('Gloss Light Yellow', 421.43583161789104), ('Satin Racing Yellow', 421.1534437184212), ('Matte Pale White', 420.9854972293599), ('Semi-gloss Radiant Black', 420.954413869469)]\n"
     ]
    }
   ],
   "source": [
    "ratios = {}\n",
    "ranges = {}\n",
    "\n",
    "for color in recent_lower_upper:\n",
    "    total_range = recent_lower_upper[color][1] - recent_lower_upper[color][0]\n",
    "    ratio = recent_lower_upper[color][1] / recent_lower_upper[color][0]\n",
    "    #confirm ratio is a number:\n",
    "    if not np.isnan(ratio) and not np.isnan(total_range):\n",
    "        #print(f\"City: {city}, ratio: {ratio}, total_range: {total_range}\")\n",
    "\n",
    "        ratios[color] = ratio\n",
    "        ranges[color] = total_range\n",
    "\n",
    "# top 5 ratios:\n",
    "sorted_ratios = sorted(ratios.items(), key=lambda x: x[1], reverse=True)\n",
    "# top 5 ranges:\n",
    "sorted_ranges = sorted(ranges.items(), key=lambda x: x[1], reverse=True)\n",
    "\n",
    "print(f\"Top 5 ratios: {sorted_ratios[:5]}\")\n",
    "print(f\"Top 5 ranges: {sorted_ranges[:5]}\")"
   ]
  },
  {
   "cell_type": "code",
   "execution_count": 194,
   "metadata": {},
   "outputs": [],
   "source": [
    "ratios = {}\n",
    "ranges = {}"
   ]
  },
  {
   "cell_type": "code",
   "execution_count": 195,
   "metadata": {},
   "outputs": [
    {
     "name": "stdout",
     "output_type": "stream",
     "text": [
      "1.14 ms ± 9.15 µs per loop (mean ± std. dev. of 7 runs, 1,000 loops each)\n"
     ]
    }
   ],
   "source": [
    "%%timeit\n",
    "for color in recent_lower_upper:\n",
    "    total_range = recent_lower_upper[color][1] - recent_lower_upper[color][0]\n",
    "    ratio = recent_lower_upper[color][1] / recent_lower_upper[color][0]\n",
    "    #confirm ratio is a number:\n",
    "    if not np.isnan(ratio) and not np.isnan(total_range):\n",
    "        #print(f\"City: {city}, ratio: {ratio}, total_range: {total_range}\")\n",
    "\n",
    "        ratios[color] = ratio\n",
    "        ranges[color] = total_range\n",
    "# top 5 ratios:\n",
    "sorted_ratios = sorted(ratios.items(), key=lambda x: x[1], reverse=True)\n",
    "# top 5 ranges:\n",
    "sorted_ranges = sorted(ranges.items(), key=lambda x: x[1], reverse=True)"
   ]
  },
  {
   "cell_type": "code",
   "execution_count": 58,
   "metadata": {},
   "outputs": [
    {
     "data": {
      "text/plain": [
       "525"
      ]
     },
     "execution_count": 58,
     "metadata": {},
     "output_type": "execute_result"
    }
   ],
   "source": [
    "# find the earliest date of transfer:\n",
    "df['total_points'].max()"
   ]
  },
  {
   "cell_type": "code",
   "execution_count": 38,
   "metadata": {},
   "outputs": [
    {
     "name": "stdout",
     "output_type": "stream",
     "text": [
      "CPU times: user 6.51 s, sys: 1.57 s, total: 8.08 s\n",
      "Wall time: 8.26 s\n"
     ]
    }
   ],
   "source": [
    "%%time\n",
    "df_sorted = df.sort_values(by=['total_points'], ascending=False)\n",
    "# sort the dataframe by price:"
   ]
  },
  {
   "cell_type": "markdown",
   "metadata": {},
   "source": [
    "### Sorting times: \n",
    "#### 10^4 dataset - 1.12ms (timeit)\n",
    "#### 1.5GB (2 * 10^7) dataset - 6.5-8.08s (time)"
   ]
  },
  {
   "cell_type": "code",
   "execution_count": 36,
   "metadata": {},
   "outputs": [
    {
     "data": {
      "text/html": [
       "<div>\n",
       "<style scoped>\n",
       "    .dataframe tbody tr th:only-of-type {\n",
       "        vertical-align: middle;\n",
       "    }\n",
       "\n",
       "    .dataframe tbody tr th {\n",
       "        vertical-align: top;\n",
       "    }\n",
       "\n",
       "    .dataframe thead th {\n",
       "        text-align: right;\n",
       "    }\n",
       "</style>\n",
       "<table border=\"1\" class=\"dataframe\">\n",
       "  <thead>\n",
       "    <tr style=\"text-align: right;\">\n",
       "      <th></th>\n",
       "      <th>Unnamed: 0</th>\n",
       "      <th>year</th>\n",
       "      <th>team</th>\n",
       "      <th>best_finish</th>\n",
       "      <th>points_avg</th>\n",
       "      <th>total_points</th>\n",
       "      <th>color_type</th>\n",
       "      <th>car_color</th>\n",
       "      <th>good_res</th>\n",
       "      <th>prob_good_res</th>\n",
       "    </tr>\n",
       "  </thead>\n",
       "  <tbody>\n",
       "    <tr>\n",
       "      <th>5807675</th>\n",
       "      <td>5807675</td>\n",
       "      <td>1996</td>\n",
       "      <td>backmarker</td>\n",
       "      <td>9</td>\n",
       "      <td>1</td>\n",
       "      <td>21</td>\n",
       "      <td>Matte Racing White</td>\n",
       "      <td>Iridescent</td>\n",
       "      <td>yes</td>\n",
       "      <td>0.553809</td>\n",
       "    </tr>\n",
       "    <tr>\n",
       "      <th>535641</th>\n",
       "      <td>535641</td>\n",
       "      <td>1998</td>\n",
       "      <td>backmarker</td>\n",
       "      <td>14</td>\n",
       "      <td>1</td>\n",
       "      <td>21</td>\n",
       "      <td>Iridescent Dark Black</td>\n",
       "      <td>Blue</td>\n",
       "      <td>no</td>\n",
       "      <td>0.788625</td>\n",
       "    </tr>\n",
       "    <tr>\n",
       "      <th>17058124</th>\n",
       "      <td>17058124</td>\n",
       "      <td>1998</td>\n",
       "      <td>backmarker</td>\n",
       "      <td>7</td>\n",
       "      <td>1</td>\n",
       "      <td>21</td>\n",
       "      <td>Gloss Chromatic Black</td>\n",
       "      <td>Satin</td>\n",
       "      <td>no</td>\n",
       "      <td>0.479035</td>\n",
       "    </tr>\n",
       "    <tr>\n",
       "      <th>4479228</th>\n",
       "      <td>4479228</td>\n",
       "      <td>2015</td>\n",
       "      <td>leading</td>\n",
       "      <td>14</td>\n",
       "      <td>1</td>\n",
       "      <td>21</td>\n",
       "      <td>Satin Chromatic Yellow</td>\n",
       "      <td>Red</td>\n",
       "      <td>yes</td>\n",
       "      <td>0.619430</td>\n",
       "    </tr>\n",
       "    <tr>\n",
       "      <th>7352900</th>\n",
       "      <td>7352900</td>\n",
       "      <td>2018</td>\n",
       "      <td>backmarker</td>\n",
       "      <td>19</td>\n",
       "      <td>1</td>\n",
       "      <td>21</td>\n",
       "      <td>Satin Light Yellow</td>\n",
       "      <td>Light</td>\n",
       "      <td>no</td>\n",
       "      <td>0.415260</td>\n",
       "    </tr>\n",
       "  </tbody>\n",
       "</table>\n",
       "</div>"
      ],
      "text/plain": [
       "          Unnamed: 0  year        team  best_finish  points_avg  total_points  \\\n",
       "5807675      5807675  1996  backmarker            9           1            21   \n",
       "535641        535641  1998  backmarker           14           1            21   \n",
       "17058124    17058124  1998  backmarker            7           1            21   \n",
       "4479228      4479228  2015     leading           14           1            21   \n",
       "7352900      7352900  2018  backmarker           19           1            21   \n",
       "\n",
       "                      color_type   car_color good_res  prob_good_res  \n",
       "5807675       Matte Racing White  Iridescent      yes       0.553809  \n",
       "535641     Iridescent Dark Black        Blue       no       0.788625  \n",
       "17058124   Gloss Chromatic Black       Satin       no       0.479035  \n",
       "4479228   Satin Chromatic Yellow         Red      yes       0.619430  \n",
       "7352900       Satin Light Yellow       Light       no       0.415260  "
      ]
     },
     "execution_count": 36,
     "metadata": {},
     "output_type": "execute_result"
    }
   ],
   "source": [
    "df_sorted = df.sort_values(by=['total_points'], ascending=False)\n",
    "df_sorted.tail()"
   ]
  },
  {
   "cell_type": "markdown",
   "metadata": {},
   "source": [
    "## To my knowledge, there's no NumPy way to sort an entire dataframe by one column.\n",
    "## I don't suggest doing the following - this is just for my curiosity."
   ]
  },
  {
   "cell_type": "code",
   "execution_count": null,
   "metadata": {},
   "outputs": [],
   "source": [
    "%%time\n",
    "## Crashed on 1.5GB dataset, 6x slower on 10^4 dataset.\n",
    "np_array = np.array(df)\n",
    "ind = np_array[np_array[:,5].argsort()[::-1]]"
   ]
  },
  {
   "cell_type": "code",
   "execution_count": 209,
   "metadata": {},
   "outputs": [
    {
     "name": "stdout",
     "output_type": "stream",
     "text": [
      "[[1625 2020 'midfield' 18 25 525 'Satin Dark Blue' 'Semi-gloss' 'yes'\n",
      "  0.9681931275436216]\n",
      " [7023 2010 'backmarker' 6 25 525 'Satin Racing Green' 'Black' 'no'\n",
      "  0.1661721593275459]\n",
      " [1572 2017 'midfield' 16 25 525 'Matte Racing White' 'Gloss' 'yes'\n",
      "  0.8633248666243962]\n",
      " [8719 2013 'leading' 16 25 525 'Semi-gloss Pale White' 'Matte' 'no'\n",
      "  0.9180138266069688]\n",
      " [8715 2000 'midfield' 10 25 525 'Gloss Light Blue' 'Satin' 'yes'\n",
      "  0.5955981496937104]\n",
      " [9710 2021 'backmarker' 10 25 525 'Gloss Racing Black' 'Iridescent' 'no'\n",
      "  0.2101602352432614]\n",
      " [1570 2006 'backmarker' 10 25 525 'Semi-gloss Chromatic Blue' 'Blue'\n",
      "  'yes' 0.0384736718552681]\n",
      " [1569 2021 'backmarker' 18 25 525 'Gloss Racing Red' 'Semi-gloss' 'no'\n",
      "  0.3934838673996677]\n",
      " [2013 2022 'backmarker' 17 25 525 'Gloss Deep Green' 'Light' 'yes'\n",
      "  0.0735095071798956]\n",
      " [9714 2016 'backmarker' 13 25 525 'Matte Chromatic Black' 'Chromatic'\n",
      "  'no' 0.0175290060712458]\n",
      " [8698 1993 'leading' 16 25 525 'Semi-gloss Chromatic Yellow' 'Yellow'\n",
      "  'no' 0.8822029298301425]\n",
      " [3051 1993 'leading' 2 25 525 'Gloss Pale Yellow' 'Black' 'yes'\n",
      "  0.7624827951830316]\n",
      " [155 2006 'leading' 7 25 525 'Iridescent Dark Black' 'Yellow' 'no'\n",
      "  0.6296228553735973]\n",
      " [9130 2009 'backmarker' 17 25 525 'Satin Pale White' 'Pale' 'yes'\n",
      "  0.7935374054046346]\n",
      " [9719 2010 'backmarker' 5 25 525 'Gloss Pale Green' 'Gloss' 'no'\n",
      "  0.9229075556695134]\n",
      " [4273 2020 'midfield' 15 25 525 'Satin Deep Green' 'Radiant' 'yes'\n",
      "  0.7606278930800794]\n",
      " [654 1993 'backmarker' 11 25 525 'Satin Racing Red' 'Dark' 'no'\n",
      "  0.3973414797682245]\n",
      " [7024 1997 'midfield' 8 25 525 'Matte Pale Yellow' 'Semi-gloss' 'no'\n",
      "  0.9878003364315456]\n",
      " [2639 2022 'leading' 6 25 525 'Satin Racing Blue' 'Semi-gloss' 'yes'\n",
      "  0.0899886581601711]\n",
      " [3907 2003 'leading' 5 25 525 'Iridescent Pale Blue' 'Semi-gloss' 'yes'\n",
      "  0.018933240700609]]\n"
     ]
    }
   ],
   "source": [
    "np_array = np.array(df)\n",
    "# argsort if you want to get indices\n",
    "# argsort[::-1] if you want to sort it in reverse.\n",
    "ind = np_array[np_array[:,5].argsort()[::-1]]\n",
    "print(ind[:20])"
   ]
  }
 ],
 "metadata": {
  "accelerator": "GPU",
  "colab": {
   "gpuType": "T4",
   "provenance": []
  },
  "kernelspec": {
   "display_name": "Python 3 (ipykernel)",
   "language": "python",
   "name": "python3"
  },
  "language_info": {
   "codemirror_mode": {
    "name": "ipython",
    "version": 3
   },
   "file_extension": ".py",
   "mimetype": "text/x-python",
   "name": "python",
   "nbconvert_exporter": "python",
   "pygments_lexer": "ipython3",
   "version": "3.9.12"
  }
 },
 "nbformat": 4,
 "nbformat_minor": 1
}
