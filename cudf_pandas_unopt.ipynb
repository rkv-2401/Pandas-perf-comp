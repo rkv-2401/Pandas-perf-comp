{
 "cells": [
  {
   "cell_type": "markdown",
   "metadata": {},
   "source": [
    "# Testing CuDF's GPU acceleration w/ Pandas dataframes\n",
    "\n",
    "Dataset used: UK property price data from Kaggle:\n",
    "\n",
    "https://www.kaggle.com/datasets/willianoliveiragibin/uk-property-price-data-1995-2023-04/data"
   ]
  },
  {
   "cell_type": "code",
   "execution_count": 3,
   "metadata": {},
   "outputs": [],
   "source": [
    "#import cudf"
   ]
  },
  {
   "cell_type": "code",
   "execution_count": 27,
   "metadata": {},
   "outputs": [],
   "source": [
    "import pandas as pd\n",
    "import numpy as np\n",
    "import random"
   ]
  },
  {
   "cell_type": "code",
   "execution_count": 4,
   "metadata": {},
   "outputs": [],
   "source": [
    "#%load_ext cudf.pandas"
   ]
  },
  {
   "cell_type": "code",
   "execution_count": 35,
   "metadata": {},
   "outputs": [],
   "source": [
    "# Inspired by Rob Mulla - https://www.youtube.com/watch?v=u4_c2LDi4b8&list=PL7RwtdVQXQ8qxBH6ugYn50D0M5u--2Xx4&index=15\n",
    "# Good result - a good result for a team in their category (e.g. points for backmarker, podium for midfield, win for leading)\n",
    "# Assuming 21 races a season.\n",
    "def rand_color(paint, base, base_col, size):\n",
    "    '''\n",
    "        Returns a string joining randomly picked elements from the three lists passed as args.\n",
    "    '''\n",
    "    cols_list = []\n",
    "    for iteration in range(size):\n",
    "        color = ''\n",
    "        color = color + random.choice(paint)\n",
    "        color = color + ' ' + random.choice(base)\n",
    "        color = color + ' ' + random.choice(base_col)\n",
    "        cols_list.append(color)\n",
    "    print(cols_list[:10])\n",
    "    return cols_list\n",
    "def make_data(size):\n",
    "    paint_type = ['Gloss', 'Matte', 'Iridescent', 'Semi-gloss', 'Satin']\n",
    "    color_type = ['Light', 'Dark', 'Deep', 'Pale', 'Chromatic', 'Racing', 'Radiant']\n",
    "    base_colors = ['Red', 'Green', 'Blue', 'White', 'Black', 'Yellow']\n",
    "    df = pd.DataFrame()\n",
    "    df['year'] = np.random.randint(1990, 2023, size)\n",
    "    df['team'] = np.random.choice(['leading', 'midfield', 'backmarker'], size)\n",
    "    df['best_finish'] = np.random.randint(1, 20, size)\n",
    "    df['points_avg'] = np.random.randint(1, 26, size)\n",
    "    df['total_points'] = np.multiply(df['points_avg'].to_numpy(), 21)\n",
    "    df['color_type'] = rand_color(paint_type, color_type, base_colors, size)\n",
    "    df['car_color'] = np.random.choice(paint_type + color_type + base_colors, size)\n",
    "    df['good_res'] = np.random.choice(['yes', 'no'], size)\n",
    "    df['prob_good_res'] = np.random.uniform(0, 1, size)\n",
    "    return df"
   ]
  },
  {
   "cell_type": "code",
   "execution_count": 36,
   "metadata": {},
   "outputs": [
    {
     "name": "stdout",
     "output_type": "stream",
     "text": [
      "['Matte Racing Green', 'Satin Racing White', 'Semi-gloss Racing White', 'Matte Deep Green', 'Matte Dark Yellow', 'Semi-gloss Racing Yellow', 'Semi-gloss Radiant Green', 'Satin Deep Blue', 'Semi-gloss Racing Blue', 'Matte Racing White']\n"
     ]
    }
   ],
   "source": [
    "df2 = make_data(10 ** 4)"
   ]
  },
  {
   "cell_type": "code",
   "execution_count": 37,
   "metadata": {},
   "outputs": [
    {
     "name": "stdout",
     "output_type": "stream",
     "text": [
      "<class 'pandas.core.frame.DataFrame'>\n",
      "RangeIndex: 10000 entries, 0 to 9999\n",
      "Data columns (total 9 columns):\n",
      " #   Column         Non-Null Count  Dtype  \n",
      "---  ------         --------------  -----  \n",
      " 0   year           10000 non-null  int64  \n",
      " 1   team           10000 non-null  object \n",
      " 2   best_finish    10000 non-null  int64  \n",
      " 3   points_avg     10000 non-null  int64  \n",
      " 4   total_points   10000 non-null  int64  \n",
      " 5   color_type     10000 non-null  object \n",
      " 6   car_color      10000 non-null  object \n",
      " 7   good_res       10000 non-null  object \n",
      " 8   prob_good_res  10000 non-null  float64\n",
      "dtypes: float64(1), int64(4), object(4)\n",
      "memory usage: 703.2+ KB\n"
     ]
    }
   ],
   "source": [
    "df2.info()"
   ]
  },
  {
   "cell_type": "code",
   "execution_count": 38,
   "metadata": {},
   "outputs": [],
   "source": [
    "df2.to_csv('data.csv')\n",
    "df = pd.read_csv('data.csv')"
   ]
  },
  {
   "cell_type": "markdown",
   "metadata": {},
   "source": [
    "First, we'll import the data and look at it. \n",
    "\n",
    "Note the datatype for price. We're explicitly setting this, due to the original dataset being parsed as a string. "
   ]
  },
  {
   "cell_type": "code",
   "execution_count": 17,
   "metadata": {},
   "outputs": [
    {
     "data": {
      "text/plain": [
       "10000000"
      ]
     },
     "execution_count": 17,
     "metadata": {},
     "output_type": "execute_result"
    }
   ],
   "source": [
    "len(df)"
   ]
  },
  {
   "cell_type": "markdown",
   "metadata": {},
   "source": [
    "A simple operation to find unique values. In this case, we're going to grab for unique Towns/Cities."
   ]
  },
  {
   "cell_type": "code",
   "execution_count": 39,
   "metadata": {},
   "outputs": [
    {
     "name": "stdout",
     "output_type": "stream",
     "text": [
      "210\n"
     ]
    }
   ],
   "source": [
    "# get unique values for a given column:\n",
    "which_unique_col = 'color_type'\n",
    "uniques = df[which_unique_col].unique()\n",
    "print(len(uniques))"
   ]
  },
  {
   "cell_type": "code",
   "execution_count": 40,
   "metadata": {},
   "outputs": [
    {
     "data": {
      "text/plain": [
       "0            Matte Racing Green\n",
       "1            Satin Racing White\n",
       "2       Semi-gloss Racing White\n",
       "3              Matte Deep Green\n",
       "4             Matte Dark Yellow\n",
       "                 ...           \n",
       "9995             Matte Dark Red\n",
       "9996           Matte Deep White\n",
       "9997          Gloss Deep Yellow\n",
       "9998          Satin Pale Yellow\n",
       "9999          Gloss Deep Yellow\n",
       "Name: color_type, Length: 10000, dtype: object"
      ]
     },
     "execution_count": 40,
     "metadata": {},
     "output_type": "execute_result"
    }
   ],
   "source": [
    "df['color_type']"
   ]
  },
  {
   "cell_type": "code",
   "execution_count": 21,
   "metadata": {},
   "outputs": [
    {
     "data": {
      "text/plain": [
       "array(['Semi-glossChromaticWhite'], dtype=object)"
      ]
     },
     "execution_count": 21,
     "metadata": {},
     "output_type": "execute_result"
    }
   ],
   "source": [
    "uniques[:10]"
   ]
  },
  {
   "cell_type": "markdown",
   "metadata": {},
   "source": [
    "Now let's do a slightly more complicated operation. We're going to find the average price for each town/city."
   ]
  },
  {
   "cell_type": "code",
   "execution_count": 42,
   "metadata": {},
   "outputs": [
    {
     "data": {
      "text/plain": [
       "array([14,  9,  6,  5, 16,  3, 18,  8, 11, 15,  4, 19, 13,  2,  7,  1, 10,\n",
       "       12, 17])"
      ]
     },
     "execution_count": 42,
     "metadata": {},
     "output_type": "execute_result"
    }
   ],
   "source": [
    "df['best_finish'].unique()"
   ]
  },
  {
   "cell_type": "code",
   "execution_count": 42,
   "metadata": {},
   "outputs": [
    {
     "name": "stdout",
     "output_type": "stream",
     "text": [
      "159 µs ± 2.08 µs per loop (mean ± std. dev. of 7 runs, 10,000 loops each)\n"
     ]
    }
   ],
   "source": [
    "%%timeit\n",
    "years = sorted(df['year'].unique())"
   ]
  },
  {
   "cell_type": "code",
   "execution_count": 44,
   "metadata": {},
   "outputs": [
    {
     "name": "stdout",
     "output_type": "stream",
     "text": [
      "[1990, 1991, 1992, 1993, 1994, 1995, 1996, 1997, 1998, 1999, 2000, 2001, 2002, 2003, 2004, 2005, 2006, 2007, 2008, 2009, 2010, 2011, 2012, 2013, 2014, 2015, 2016, 2017, 2018, 2019, 2020, 2021, 2022]\n"
     ]
    }
   ],
   "source": [
    "years = sorted(df['year'].unique())\n",
    "print(years)\n",
    "uniques_points = {}"
   ]
  },
  {
   "cell_type": "code",
   "execution_count": 69,
   "metadata": {},
   "outputs": [
    {
     "name": "stdout",
     "output_type": "stream",
     "text": [
      "228 ms ± 4.32 ms per loop (mean ± std. dev. of 7 runs, 1 loop each)\n"
     ]
    }
   ],
   "source": [
    "%%timeit\n",
    "for unique in uniques:\n",
    "    uniques_points[unique] = df[df[which_unique_col] == unique]['total_points'].mean()"
   ]
  },
  {
   "cell_type": "code",
   "execution_count": 63,
   "metadata": {},
   "outputs": [
    {
     "data": {
      "text/plain": [
       "210"
      ]
     },
     "execution_count": 63,
     "metadata": {},
     "output_type": "execute_result"
    }
   ],
   "source": [
    "for unique in uniques:\n",
    "    uniques_points[unique] = df[df[which_unique_col] == unique]['total_points'].mean()\n",
    "len(uniques_points.items())"
   ]
  },
  {
   "cell_type": "code",
   "execution_count": 65,
   "metadata": {},
   "outputs": [],
   "source": [
    "#uniques_points.items()"
   ]
  },
  {
   "cell_type": "markdown",
   "metadata": {},
   "source": [
    "Next, we'll grab data just for 2022:"
   ]
  },
  {
   "cell_type": "code",
   "execution_count": 47,
   "metadata": {},
   "outputs": [],
   "source": [
    "# Use string or number in vectorized version\n",
    "# df_2022 = df[df['year'].str.startswith('2022')]\n",
    "df_green = df[df[which_unique_col] == 'Matte Racing Green']"
   ]
  },
  {
   "cell_type": "code",
   "execution_count": 49,
   "metadata": {},
   "outputs": [
    {
     "name": "stdout",
     "output_type": "stream",
     "text": [
      "46\n"
     ]
    },
    {
     "data": {
      "text/html": [
       "<div>\n",
       "<style scoped>\n",
       "    .dataframe tbody tr th:only-of-type {\n",
       "        vertical-align: middle;\n",
       "    }\n",
       "\n",
       "    .dataframe tbody tr th {\n",
       "        vertical-align: top;\n",
       "    }\n",
       "\n",
       "    .dataframe thead th {\n",
       "        text-align: right;\n",
       "    }\n",
       "</style>\n",
       "<table border=\"1\" class=\"dataframe\">\n",
       "  <thead>\n",
       "    <tr style=\"text-align: right;\">\n",
       "      <th></th>\n",
       "      <th>Unnamed: 0</th>\n",
       "      <th>year</th>\n",
       "      <th>team</th>\n",
       "      <th>best_finish</th>\n",
       "      <th>points_avg</th>\n",
       "      <th>total_points</th>\n",
       "      <th>color_type</th>\n",
       "      <th>car_color</th>\n",
       "      <th>good_res</th>\n",
       "      <th>prob_good_res</th>\n",
       "    </tr>\n",
       "  </thead>\n",
       "  <tbody>\n",
       "    <tr>\n",
       "      <th>8184</th>\n",
       "      <td>8184</td>\n",
       "      <td>2020</td>\n",
       "      <td>midfield</td>\n",
       "      <td>19</td>\n",
       "      <td>14</td>\n",
       "      <td>294</td>\n",
       "      <td>Matte Racing Green</td>\n",
       "      <td>Semi-gloss</td>\n",
       "      <td>yes</td>\n",
       "      <td>0.422315</td>\n",
       "    </tr>\n",
       "    <tr>\n",
       "      <th>8732</th>\n",
       "      <td>8732</td>\n",
       "      <td>1996</td>\n",
       "      <td>backmarker</td>\n",
       "      <td>4</td>\n",
       "      <td>11</td>\n",
       "      <td>231</td>\n",
       "      <td>Matte Racing Green</td>\n",
       "      <td>Pale</td>\n",
       "      <td>no</td>\n",
       "      <td>0.979515</td>\n",
       "    </tr>\n",
       "    <tr>\n",
       "      <th>9526</th>\n",
       "      <td>9526</td>\n",
       "      <td>2020</td>\n",
       "      <td>leading</td>\n",
       "      <td>1</td>\n",
       "      <td>6</td>\n",
       "      <td>126</td>\n",
       "      <td>Matte Racing Green</td>\n",
       "      <td>Green</td>\n",
       "      <td>yes</td>\n",
       "      <td>0.219553</td>\n",
       "    </tr>\n",
       "    <tr>\n",
       "      <th>9646</th>\n",
       "      <td>9646</td>\n",
       "      <td>2022</td>\n",
       "      <td>leading</td>\n",
       "      <td>9</td>\n",
       "      <td>12</td>\n",
       "      <td>252</td>\n",
       "      <td>Matte Racing Green</td>\n",
       "      <td>Satin</td>\n",
       "      <td>no</td>\n",
       "      <td>0.488504</td>\n",
       "    </tr>\n",
       "    <tr>\n",
       "      <th>9709</th>\n",
       "      <td>9709</td>\n",
       "      <td>1997</td>\n",
       "      <td>midfield</td>\n",
       "      <td>2</td>\n",
       "      <td>14</td>\n",
       "      <td>294</td>\n",
       "      <td>Matte Racing Green</td>\n",
       "      <td>Matte</td>\n",
       "      <td>yes</td>\n",
       "      <td>0.540164</td>\n",
       "    </tr>\n",
       "  </tbody>\n",
       "</table>\n",
       "</div>"
      ],
      "text/plain": [
       "      Unnamed: 0  year        team  best_finish  points_avg  total_points  \\\n",
       "8184        8184  2020    midfield           19          14           294   \n",
       "8732        8732  1996  backmarker            4          11           231   \n",
       "9526        9526  2020     leading            1           6           126   \n",
       "9646        9646  2022     leading            9          12           252   \n",
       "9709        9709  1997    midfield            2          14           294   \n",
       "\n",
       "              color_type   car_color good_res  prob_good_res  \n",
       "8184  Matte Racing Green  Semi-gloss      yes       0.422315  \n",
       "8732  Matte Racing Green        Pale       no       0.979515  \n",
       "9526  Matte Racing Green       Green      yes       0.219553  \n",
       "9646  Matte Racing Green       Satin       no       0.488504  \n",
       "9709  Matte Racing Green       Matte      yes       0.540164  "
      ]
     },
     "execution_count": 49,
     "metadata": {},
     "output_type": "execute_result"
    }
   ],
   "source": [
    "print(len(df_green))\n",
    "df_green.tail()"
   ]
  },
  {
   "cell_type": "markdown",
   "metadata": {},
   "source": [
    "Grab the lower 20% and upper 20% averages for properties in 2022."
   ]
  },
  {
   "cell_type": "code",
   "execution_count": 67,
   "metadata": {},
   "outputs": [],
   "source": [
    "recent_lower_upper = {}"
   ]
  },
  {
   "cell_type": "code",
   "execution_count": 68,
   "metadata": {},
   "outputs": [
    {
     "name": "stdout",
     "output_type": "stream",
     "text": [
      "294 ms ± 10.7 ms per loop (mean ± std. dev. of 7 runs, 1 loop each)\n"
     ]
    }
   ],
   "source": [
    "%%timeit\n",
    "for unique in uniques:\n",
    "\n",
    "    points = df[df[which_unique_col] == unique]['total_points']\n",
    "    sorted_points = points.sort_values()\n",
    "\n",
    "    # bottom 20% of the prices\n",
    "    bottom_20_percent_points = sorted_points[:int(0.2 * len(sorted_points))]\n",
    "\n",
    "    # average of the bottom 20%\n",
    "    average_of_bottom_20_percent = bottom_20_percent_points.mean()\n",
    "\n",
    "    # top 20% of the prices\n",
    "    top_20_percent_points = sorted_points[int(0.8 * len(sorted_points)):]\n",
    "    # average of the top 20%\n",
    "    average_of_top_20_percent = top_20_percent_points.mean()\n",
    "\n",
    "    recent_lower_upper[unique] = (average_of_bottom_20_percent, average_of_top_20_percent)"
   ]
  },
  {
   "cell_type": "markdown",
   "metadata": {},
   "source": [
    "Then from here, you might calculate range or a ratio to determine variance for a given area and then find standouts:"
   ]
  },
  {
   "cell_type": "code",
   "execution_count": 53,
   "metadata": {},
   "outputs": [],
   "source": [
    "for unique in uniques:\n",
    "\n",
    "    points = df[df[which_unique_col] == unique]['total_points']\n",
    "    sorted_points = points.sort_values()\n",
    "\n",
    "    # bottom 20% of the prices\n",
    "    bottom_20_percent_points = sorted_points[:int(0.2 * len(sorted_points))]\n",
    "\n",
    "    # average of the bottom 20%\n",
    "    average_of_bottom_20_percent = bottom_20_percent_points.mean()\n",
    "\n",
    "    # top 20% of the prices\n",
    "    top_20_percent_points = sorted_points[int(0.8 * len(sorted_points)):]\n",
    "    # average of the top 20%\n",
    "    average_of_top_20_percent = top_20_percent_points.mean()\n",
    "\n",
    "    recent_lower_upper[unique] = (average_of_bottom_20_percent, average_of_top_20_percent)\n",
    "    \n",
    "recent_lower_upper\n",
    "ratios = {}\n",
    "ranges = {}"
   ]
  },
  {
   "cell_type": "code",
   "execution_count": 54,
   "metadata": {},
   "outputs": [
    {
     "name": "stdout",
     "output_type": "stream",
     "text": [
      "1.25 ms ± 46.9 µs per loop (mean ± std. dev. of 7 runs, 1,000 loops each)\n"
     ]
    }
   ],
   "source": [
    "%%timeit\n",
    "for color in recent_lower_upper:\n",
    "    total_range = recent_lower_upper[color][1] - recent_lower_upper[color][0]\n",
    "    ratio = recent_lower_upper[color][1] / recent_lower_upper[color][0]\n",
    "    #confirm ratio is a number:\n",
    "    if not np.isnan(ratio) and not np.isnan(total_range):\n",
    "        #print(f\"City: {city}, ratio: {ratio}, total_range: {total_range}\")\n",
    "\n",
    "        ratios[color] = ratio\n",
    "        ranges[color] = total_range"
   ]
  },
  {
   "cell_type": "code",
   "execution_count": 62,
   "metadata": {},
   "outputs": [
    {
     "name": "stdout",
     "output_type": "stream",
     "text": [
      "Top 5 ratios: [('Satin Radiant Green', 21.857142857142858), ('Satin Light Black', 17.1), ('Matte Chromatic White', 17.01818181818182), ('Iridescent Racing Yellow', 14.850000000000001), ('Matte Dark Black', 14.303030303030303)]\n",
      "Top 5 ranges: [('Gloss Light Red', 468.3), ('Matte Racing Black', 459.6136363636364), ('Satin Deep Blue', 454.125), ('Matte Radiant Black', 453.9818181818182), ('Iridescent Racing Yellow', 452.43333333333334)]\n"
     ]
    }
   ],
   "source": [
    "for color in recent_lower_upper:\n",
    "    total_range = recent_lower_upper[color][1] - recent_lower_upper[color][0]\n",
    "    ratio = recent_lower_upper[color][1] / recent_lower_upper[color][0]\n",
    "    #confirm ratio is a number:\n",
    "    if not np.isnan(ratio) and not np.isnan(total_range):\n",
    "        #print(f\"City: {city}, ratio: {ratio}, total_range: {total_range}\")\n",
    "\n",
    "        ratios[color] = ratio\n",
    "        ranges[color] = total_range\n",
    "\n",
    "# top 5 ratios:\n",
    "sorted_ratios = sorted(ratios.items(), key=lambda x: x[1], reverse=True)\n",
    "# top 5 ranges:\n",
    "sorted_ranges = sorted(ranges.items(), key=lambda x: x[1], reverse=True)\n",
    "\n",
    "print(f\"Top 5 ratios: {sorted_ratios[:5]}\")\n",
    "print(f\"Top 5 ranges: {sorted_ranges[:5]}\")"
   ]
  },
  {
   "cell_type": "code",
   "execution_count": 58,
   "metadata": {},
   "outputs": [
    {
     "data": {
      "text/plain": [
       "525"
      ]
     },
     "execution_count": 58,
     "metadata": {},
     "output_type": "execute_result"
    }
   ],
   "source": [
    "# find the earliest date of transfer:\n",
    "df['total_points'].max()"
   ]
  },
  {
   "cell_type": "code",
   "execution_count": 59,
   "metadata": {},
   "outputs": [
    {
     "name": "stdout",
     "output_type": "stream",
     "text": [
      "1.75 ms ± 211 µs per loop (mean ± std. dev. of 7 runs, 100 loops each)\n"
     ]
    }
   ],
   "source": [
    "%%timeit\n",
    "df_sorted = df.sort_values(by=['total_points'], ascending=False)\n",
    "# sort the dataframe by price:"
   ]
  },
  {
   "cell_type": "code",
   "execution_count": 61,
   "metadata": {},
   "outputs": [
    {
     "data": {
      "text/html": [
       "<div>\n",
       "<style scoped>\n",
       "    .dataframe tbody tr th:only-of-type {\n",
       "        vertical-align: middle;\n",
       "    }\n",
       "\n",
       "    .dataframe tbody tr th {\n",
       "        vertical-align: top;\n",
       "    }\n",
       "\n",
       "    .dataframe thead th {\n",
       "        text-align: right;\n",
       "    }\n",
       "</style>\n",
       "<table border=\"1\" class=\"dataframe\">\n",
       "  <thead>\n",
       "    <tr style=\"text-align: right;\">\n",
       "      <th></th>\n",
       "      <th>Unnamed: 0</th>\n",
       "      <th>year</th>\n",
       "      <th>team</th>\n",
       "      <th>best_finish</th>\n",
       "      <th>points_avg</th>\n",
       "      <th>total_points</th>\n",
       "      <th>color_type</th>\n",
       "      <th>car_color</th>\n",
       "      <th>good_res</th>\n",
       "      <th>prob_good_res</th>\n",
       "    </tr>\n",
       "  </thead>\n",
       "  <tbody>\n",
       "    <tr>\n",
       "      <th>6185</th>\n",
       "      <td>6185</td>\n",
       "      <td>2003</td>\n",
       "      <td>leading</td>\n",
       "      <td>9</td>\n",
       "      <td>1</td>\n",
       "      <td>21</td>\n",
       "      <td>Matte Pale Blue</td>\n",
       "      <td>Iridescent</td>\n",
       "      <td>no</td>\n",
       "      <td>0.040337</td>\n",
       "    </tr>\n",
       "    <tr>\n",
       "      <th>3873</th>\n",
       "      <td>3873</td>\n",
       "      <td>2000</td>\n",
       "      <td>leading</td>\n",
       "      <td>13</td>\n",
       "      <td>1</td>\n",
       "      <td>21</td>\n",
       "      <td>Matte Dark Blue</td>\n",
       "      <td>Red</td>\n",
       "      <td>yes</td>\n",
       "      <td>0.426702</td>\n",
       "    </tr>\n",
       "    <tr>\n",
       "      <th>8567</th>\n",
       "      <td>8567</td>\n",
       "      <td>1992</td>\n",
       "      <td>leading</td>\n",
       "      <td>12</td>\n",
       "      <td>1</td>\n",
       "      <td>21</td>\n",
       "      <td>Iridescent Radiant Yellow</td>\n",
       "      <td>Semi-gloss</td>\n",
       "      <td>yes</td>\n",
       "      <td>0.798149</td>\n",
       "    </tr>\n",
       "    <tr>\n",
       "      <th>663</th>\n",
       "      <td>663</td>\n",
       "      <td>2007</td>\n",
       "      <td>leading</td>\n",
       "      <td>2</td>\n",
       "      <td>1</td>\n",
       "      <td>21</td>\n",
       "      <td>Matte Chromatic Green</td>\n",
       "      <td>Green</td>\n",
       "      <td>yes</td>\n",
       "      <td>0.480424</td>\n",
       "    </tr>\n",
       "    <tr>\n",
       "      <th>2371</th>\n",
       "      <td>2371</td>\n",
       "      <td>1990</td>\n",
       "      <td>midfield</td>\n",
       "      <td>17</td>\n",
       "      <td>1</td>\n",
       "      <td>21</td>\n",
       "      <td>Satin Dark White</td>\n",
       "      <td>Chromatic</td>\n",
       "      <td>yes</td>\n",
       "      <td>0.840277</td>\n",
       "    </tr>\n",
       "  </tbody>\n",
       "</table>\n",
       "</div>"
      ],
      "text/plain": [
       "      Unnamed: 0  year      team  best_finish  points_avg  total_points  \\\n",
       "6185        6185  2003   leading            9           1            21   \n",
       "3873        3873  2000   leading           13           1            21   \n",
       "8567        8567  1992   leading           12           1            21   \n",
       "663          663  2007   leading            2           1            21   \n",
       "2371        2371  1990  midfield           17           1            21   \n",
       "\n",
       "                     color_type   car_color good_res  prob_good_res  \n",
       "6185            Matte Pale Blue  Iridescent       no       0.040337  \n",
       "3873            Matte Dark Blue         Red      yes       0.426702  \n",
       "8567  Iridescent Radiant Yellow  Semi-gloss      yes       0.798149  \n",
       "663       Matte Chromatic Green       Green      yes       0.480424  \n",
       "2371           Satin Dark White   Chromatic      yes       0.840277  "
      ]
     },
     "execution_count": 61,
     "metadata": {},
     "output_type": "execute_result"
    }
   ],
   "source": [
    "df_sorted = df.sort_values(by=['total_points'], ascending=False)\n",
    "df_sorted.tail()"
   ]
  }
 ],
 "metadata": {
  "accelerator": "GPU",
  "colab": {
   "gpuType": "T4",
   "provenance": []
  },
  "kernelspec": {
   "display_name": "Python 3 (ipykernel)",
   "language": "python",
   "name": "python3"
  },
  "language_info": {
   "codemirror_mode": {
    "name": "ipython",
    "version": 3
   },
   "file_extension": ".py",
   "mimetype": "text/x-python",
   "name": "python",
   "nbconvert_exporter": "python",
   "pygments_lexer": "ipython3",
   "version": "3.9.12"
  }
 },
 "nbformat": 4,
 "nbformat_minor": 1
}
